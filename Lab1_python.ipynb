{
  "nbformat": 4,
  "nbformat_minor": 0,
  "metadata": {
    "colab": {
      "name": "Lab1_python.ipynb",
      "provenance": [],
      "authorship_tag": "ABX9TyMra50Bek6SnL3HGrNC5Dfa",
      "include_colab_link": true
    },
    "kernelspec": {
      "name": "python3",
      "display_name": "Python 3"
    },
    "language_info": {
      "name": "python"
    }
  },
  "cells": [
    {
      "cell_type": "markdown",
      "metadata": {
        "id": "view-in-github",
        "colab_type": "text"
      },
      "source": [
        "<a href=\"https://colab.research.google.com/github/Beocatsu/labs/blob/master/Lab1_python.ipynb\" target=\"_parent\"><img src=\"https://colab.research.google.com/assets/colab-badge.svg\" alt=\"Open In Colab\"/></a>"
      ]
    },
    {
      "cell_type": "markdown",
      "source": [
        "Лр 1, вариант 2 \"Пороговая обработка изображений\""
      ],
      "metadata": {
        "id": "FG2GI8mdR3SB"
      }
    },
    {
      "cell_type": "code",
      "execution_count": null,
      "metadata": {
        "id": "pQFgmaB3RvH8"
      },
      "outputs": [],
      "source": [
        "from skimage.io import imread, imshow, show, imsave\n",
        "from skimage.color import rgb2gray\n",
        "from skimage.exposure import histogram\n",
        "from matplotlib import pyplot as plt\n",
        "from skimage import data\n",
        "\n",
        "import numpy as np\n",
        "import matplotlib as mt\n",
        "import json"
      ]
    }
  ]
}